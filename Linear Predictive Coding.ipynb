{
 "cells": [
  {
   "cell_type": "markdown",
   "metadata": {},
   "source": [
    "# Least Squares Audio Compression using Linear Predictive Coding (LPC)"
   ]
  },
  {
   "cell_type": "markdown",
   "metadata": {},
   "source": [
    "## 1. Preprocess the Data"
   ]
  },
  {
   "cell_type": "code",
   "execution_count": 1,
   "metadata": {
    "collapsed": true
   },
   "outputs": [],
   "source": [
    "import scipy.io.wavfile\n",
    "import numpy as np\n",
    "import matplotlib.pyplot as plt\n",
    "from mpl_toolkits.mplot3d import Axes3D\n",
    "from matplotlib import cm\n",
    "%matplotlib inline"
   ]
  },
  {
   "cell_type": "code",
   "execution_count": 2,
   "metadata": {
    "collapsed": false
   },
   "outputs": [],
   "source": [
    "# Read in the audio\n",
    "sample_rate, y = scipy.io.wavfile.read('Kam_James_A10789738_Project1.wav')\n",
    "\n",
    "# Normalize the signal\n",
    "y = y/np.max(abs(y))"
   ]
  },
  {
   "cell_type": "code",
   "execution_count": 3,
   "metadata": {
    "collapsed": true
   },
   "outputs": [],
   "source": [
    "def float2pcm(sig, dtype='int16'):\n",
    "    # Prepare the audio signal before exporting\n",
    "    sig = np.asarray(sig)\n",
    "    if sig.dtype.kind != 'f':\n",
    "        raise TypeError(\"'sig' must be a float array\")\n",
    "    dtype = np.dtype(dtype)\n",
    "    if dtype.kind not in 'iu':\n",
    "        raise TypeError(\"'dtype' must be an integer type\")\n",
    "\n",
    "    i = np.iinfo(dtype)\n",
    "    abs_max = 2 ** (i.bits - 1)\n",
    "    offset = i.min + abs_max\n",
    "    return (sig * abs_max + offset).clip(i.min, i.max).astype(dtype)"
   ]
  },
  {
   "cell_type": "code",
   "execution_count": 4,
   "metadata": {
    "collapsed": false
   },
   "outputs": [],
   "source": [
    "# Obtain a pad size to appropriately zero pad the data\n",
    "block_size = 160\n",
    "if y.shape[0] % block_size == 0:\n",
    "    pad_size = 0\n",
    "else:\n",
    "    pad_size = block_size - (y.shape[0] % block_size)\n",
    "\n",
    "# Zero pad the data\n",
    "y = np.lib.pad(y, (0, pad_size), 'constant', constant_values = (0, 0))\n",
    "\n",
    "# Calculate number of blocks\n",
    "num_blocks = int(y.shape[0]/block_size)\n",
    "\n",
    "# Reshape the data\n",
    "y = np.reshape(y, (num_blocks, block_size))"
   ]
  },
  {
   "cell_type": "markdown",
   "metadata": {},
   "source": [
    "## 2. Quantize the Data"
   ]
  },
  {
   "cell_type": "code",
   "execution_count": 5,
   "metadata": {
    "collapsed": false
   },
   "outputs": [],
   "source": [
    "# Initialize the lists used to quantize y\n",
    "\n",
    "# Create a list of r to iterate through\n",
    "r_list = list(range(1,9))\n",
    "\n",
    "# Create list of alpha to iterate through\n",
    "alpha_list = [0.25, 0.5, 1, 1.5, 2, 2.5, 3]"
   ]
  },
  {
   "cell_type": "code",
   "execution_count": 6,
   "metadata": {
    "collapsed": false
   },
   "outputs": [],
   "source": [
    "def quantize(sig, r, alpha, axis):\n",
    "    # sig is a num_blocks by N array of the signal data\n",
    "    # r is a quantization rate\n",
    "    # alpha is a free parameter that adjusts the thresholding range\n",
    "    # alpha > 0\n",
    "    # Return sig_q, a quantized version of the original signal\n",
    "    \n",
    "    # Transpose sig if axis = 1\n",
    "    if axis == 1:\n",
    "        sig = sig.T\n",
    "    \n",
    "    num_blocks = sig.shape[0]\n",
    "    \n",
    "    # Create L (corresponding to r)\n",
    "    L = 2**r\n",
    "    \n",
    "    # Intialize sig_q\n",
    "    sig_q = np.zeros(sig.shape)\n",
    "    \n",
    "    # Intialize sig_thresh\n",
    "    sig_thresh = np.zeros(sig.shape)\n",
    "    \n",
    "    # Find the mean and standard deviation\n",
    "    sig_mean = sig.mean(axis = 1)\n",
    "    sig_std = sig.std(axis = 1)\n",
    "\n",
    "    # Calculate threshold bounds\n",
    "    upper_thresh = sig_mean + alpha*sig_std\n",
    "    lower_thresh = sig_mean - alpha*sig_std\n",
    "    \n",
    "    # Compute thresholded signal before quantizing\n",
    "    for i in range(num_blocks):    \n",
    "        # Apply threshold\n",
    "        np.clip(sig[i,:], lower_thresh[i], upper_thresh[i], out = sig_thresh[i,:])\n",
    "        \n",
    "        # Calculate q\n",
    "        q = (np.max(sig_thresh[i,:]) - np.min(sig_thresh[i,:])) / (L - 1)\n",
    "    \n",
    "        # Calculate sig_q\n",
    "        sig_q[i, :] = np.round(sig_thresh[i,:]/q) * q\n",
    "    \n",
    "    # Transpose sig_q if axis = 1\n",
    "    if axis == 1:\n",
    "        sig_q = sig_q.T\n",
    "            \n",
    "    return sig_q"
   ]
  },
  {
   "cell_type": "code",
   "execution_count": 7,
   "metadata": {
    "collapsed": false
   },
   "outputs": [],
   "source": [
    "def mse_calc(sig1, sig2):\n",
    "    from numpy.core.umath_tests import inner1d\n",
    "    \n",
    "    # sig1 and sig2 are arrays of the same size\n",
    "    \n",
    "    if sig1.shape != sig2.shape:\n",
    "        raise ValueError(\"Arrays of size\", sig1.shape, \"and\", sig2.shape, \"are unsuitable for comparison\")\n",
    "            \n",
    "    N = sig1.shape[0]*sig1.shape[1]\n",
    "    \n",
    "    # Compute the mse between each block of sig1 and sig2\n",
    "    error = sig1 - sig2\n",
    "    sq_error = error**2\n",
    "    mse = np.sum(sq_error)/N\n",
    "\n",
    "    return mse"
   ]
  },
  {
   "cell_type": "code",
   "execution_count": 8,
   "metadata": {
    "collapsed": false
   },
   "outputs": [],
   "source": [
    "# Initialize y_mse\n",
    "y_mse = np.zeros([len(r_list), len(alpha_list)])\n",
    "\n",
    "# Populate y_mse\n",
    "for i in range(len(r_list)):\n",
    "    for j in range(len(alpha_list)):\n",
    "        # Quantize y\n",
    "        y_q = quantize(y, r_list[i], alpha_list[j], axis = 0)\n",
    "        \n",
    "        # Export the sound files\n",
    "        # title = 'y_q_r=' + str(r_list[i]) + 'alpha=' + str(alpha_list[j]) + '.wav'\n",
    "        # scipy.io.wavfile.write(title, sample_rate, float2pcm(y_q.flatten(), 'int16'))\n",
    "        \n",
    "        # Calculate MSE between y and y_q\n",
    "        y_mse[i,j] = mse_calc(y, y_q)"
   ]
  },
  {
   "cell_type": "code",
   "execution_count": 9,
   "metadata": {
    "collapsed": false
   },
   "outputs": [],
   "source": [
    "def print_mse(sig_mse, alpha_list, r_list):\n",
    "    # Print a table of MSEs for all alpha and r\n",
    "    \n",
    "    # Print column headers\n",
    "    print(\"      \", end = \"\")\n",
    "    for i in range(len(alpha_list)):\n",
    "        if i != len(alpha_list) - 1:\n",
    "            end_code = \"   \"\n",
    "        else:\n",
    "            end_code = \"\\n\"\n",
    "        print(\"alpha=%.1f\" % alpha_list[i], end = end_code)\n",
    "\n",
    "    # Print column divider\n",
    "    print(\"     \", end = \"\")\n",
    "    print(\"-\"*(1 + 9*len(alpha_list) + 3*(len(alpha_list)-1)))\n",
    "\n",
    "    for i in range(len(r_list)):\n",
    "        # Print row headers\n",
    "        print(\"r=%d |\" % r_list[i], end = \" \")\n",
    "\n",
    "        # Print entry data\n",
    "        for j in range(len(alpha_list)):\n",
    "            if j != len(alpha_list) - 1:\n",
    "                end_code = \"   \"\n",
    "            else:\n",
    "                end_code = \"\\n\"\n",
    "            print(\"%.7f\" % sig_mse[i, j], end = end_code)\n",
    "    return"
   ]
  },
  {
   "cell_type": "code",
   "execution_count": 10,
   "metadata": {
    "collapsed": true
   },
   "outputs": [],
   "source": [
    "def mse_vs_r(mse, r_list, alpha_list, alpha):\n",
    "    fig = plt.figure()\n",
    "    alpha_index = alpha_list.index(alpha)\n",
    "    plt.plot(r_list, mse[:, alpha_index])\n",
    "    \n",
    "    ax = fig.add_subplot(111)\n",
    "    \n",
    "     # Label axes\n",
    "    ax.set_xlabel('$r$')\n",
    "    ax.set_ylabel('$MSE$')\n",
    "    \n",
    "    plt.tick_params(axis='both', which='major')\n",
    "    \n",
    "    # Title plot\n",
    "    plt.title('$MSE\\ vs.\\ r,\\ \\\\alpha='+str(alpha)+'$')\n",
    "    plt.show()"
   ]
  },
  {
   "cell_type": "code",
   "execution_count": 11,
   "metadata": {
    "collapsed": false
   },
   "outputs": [],
   "source": [
    "def mse_vs_alpha(mse, r_list, alpha_list, r):\n",
    "    fig = plt.figure()\n",
    "    r_index = r_list.index(r)\n",
    "    plt.plot(alpha_list, mse[r_index, :])\n",
    "    \n",
    "    ax = fig.add_subplot(111)\n",
    "    \n",
    "     # Label axes\n",
    "    ax.set_xlabel('$\\\\alpha$')\n",
    "    ax.set_ylabel('$MSE$')\n",
    "    \n",
    "    plt.tick_params(axis='both', which='major')\n",
    "    \n",
    "    # Title plot\n",
    "    plt.title('$MSE\\ vs.\\ \\\\alpha,\\ r='+str(r)+'$')\n",
    "    plt.show()"
   ]
  },
  {
   "cell_type": "code",
   "execution_count": 12,
   "metadata": {
    "collapsed": false
   },
   "outputs": [
    {
     "data": {
      "image/png": "[encoded data removed]",
      "text/plain": [
       "<matplotlib.figure.Figure at 0x1f6860364a8>"
      ]
     },
     "metadata": {},
     "output_type": "display_data"
    }
   ],
   "source": [
    "# Plot MSE vs r\n",
    "alpha_best = 1.5\n",
    "mse_vs_r(y_mse, r_list, alpha_list, alpha_best)"
   ]
  },
  {
   "cell_type": "code",
   "execution_count": 13,
   "metadata": {
    "collapsed": false
   },
   "outputs": [
    {
     "data": {
      "image/png": "[encoded data removed]",
      "text/plain": [
       "<matplotlib.figure.Figure at 0x1f6865dd6a0>"
      ]
     },
     "metadata": {},
     "output_type": "display_data"
    }
   ],
   "source": [
    "# Plot MSE vs alpha\n",
    "r_best = 4\n",
    "mse_vs_alpha(y_mse, r_list, alpha_list, r_best)"
   ]
  },
  {
   "cell_type": "code",
   "execution_count": 14,
   "metadata": {
    "collapsed": false
   },
   "outputs": [],
   "source": [
    "def plot_mse(mse, alpha_list, r_list, z_label):\n",
    "    fig = plt.figure()\n",
    "    ax = fig.gca(projection='3d')\n",
    "    X = alpha_list\n",
    "    Y = r_list\n",
    "    X, Y = np.meshgrid(X, Y)\n",
    "    Z = mse\n",
    "    surf = ax.plot_surface(X, Y, Z, rstride=1, cstride=1, cmap=cm.coolwarm, linewidth=0, antialiased=False)\n",
    "    \n",
    "    plt.tick_params(axis='both', which='major')\n",
    "\n",
    "    # Label axes\n",
    "    ax.set_xlabel('$\\\\alpha$')\n",
    "    ax.set_ylabel('$r$')\n",
    "    ax.set_zlabel('$MSE_{y,'+z_label+'}$')\n",
    "        \n",
    "    # Title plot\n",
    "    plt.title('$MSE_{y,'+z_label+'}\\ vs.\\ \\\\alpha\\ vs.\\ r$')\n",
    "    \n",
    "    plt.show()"
   ]
  },
  {
   "cell_type": "code",
   "execution_count": 15,
   "metadata": {
    "collapsed": false
   },
   "outputs": [
    {
     "data": {
      "image/png": "[encoded data removed]",
      "text/plain": [
       "<matplotlib.figure.Figure at 0x1f6865d8908>"
      ]
     },
     "metadata": {},
     "output_type": "display_data"
    }
   ],
   "source": [
    "# Plot the 3D MSE\n",
    "plot_mse(y_mse, alpha_list, r_list, 'y_q')"
   ]
  },
  {
   "cell_type": "markdown",
   "metadata": {},
   "source": [
    "## 3. Estimate Filter Coefficients / 4. Calculate Residuals"
   ]
  },
  {
   "cell_type": "code",
   "execution_count": 16,
   "metadata": {
    "collapsed": false
   },
   "outputs": [],
   "source": [
    "# Implements mldivide (given by \\ operator in MatLab)\n",
    "\n",
    "def mldivide(A,b):\n",
    "    import numpy as np\n",
    "    from itertools import combinations\n",
    "    num_vars = A.shape[1]\n",
    "    rank = np.linalg.matrix_rank(A)\n",
    "    if rank == num_vars:              \n",
    "        sol = np.linalg.lstsq(A, b)[0]    # not underdetermined\n",
    "        return sol\n",
    "    else:\n",
    "        for nz in combinations(range(num_vars), rank):\n",
    "            try: \n",
    "                sol = np.zeros((num_vars, 1))  \n",
    "                sol[nz, :] = np.asarray(np.linalg.solve(A[:, nz], b))\n",
    "            except np.linalg.LinAlgError:     \n",
    "                pass                    # Bad variables, can't solve\n",
    "        return sol"
   ]
  },
  {
   "cell_type": "code",
   "execution_count": 17,
   "metadata": {
    "collapsed": false
   },
   "outputs": [],
   "source": [
    "from scipy.linalg import toeplitz\n",
    "\n",
    "# Initialize filter order\n",
    "l = 10\n",
    "\n",
    "# Initialize array of coefficients\n",
    "a = np.zeros([l, num_blocks])\n",
    "\n",
    "# Initialize array of residuals\n",
    "e = np.zeros([block_size, num_blocks])\n",
    "\n",
    "# Intialize the l previous data points\n",
    "prev_y = np.zeros(l)\n",
    "\n",
    "# Estimate filter coefficients for each block\n",
    "for i in range(num_blocks):\n",
    "    # Intialize b\n",
    "    b = y[i,:]\n",
    "    \n",
    "    # Initialize toeplitz matrix\n",
    "    col_A = y[i,:]\n",
    "    col_A = np.roll(col_A, 1)\n",
    "    col_A[0] = prev_y[0]\n",
    "    row_A = prev_y\n",
    "    A = scipy.linalg.toeplitz(col_A, row_A)\n",
    "    \n",
    "    # Calculate coefficients\n",
    "    a[:, i] = mldivide(A,b)\n",
    "    \n",
    "    # Calculate residuals\n",
    "    e[:, i] = b - (A @ a[:, i]) \n",
    "        \n",
    "    # Update prev_y with last l entries of current block\n",
    "    prev_y = y[i, -l::]\n",
    "    \n",
    "    # Reverse the order\n",
    "    prev_y = prev_y[::-1]"
   ]
  },
  {
   "cell_type": "code",
   "execution_count": 18,
   "metadata": {
    "collapsed": false
   },
   "outputs": [
    {
     "name": "stdout",
     "output_type": "stream",
     "text": [
      "Dynamic range of residuals:\n",
      "Max = 0.13977243533870964\n",
      "Min = -0.11001098182316282\n",
      "Dynamic range of original signal:\n",
      "Max = 1.0\n",
      "Min = -0.9450527704485489\n"
     ]
    }
   ],
   "source": [
    "print('Dynamic range of residuals:')\n",
    "print('Max = {}'.format(np.max(e)))\n",
    "print('Min = {}'.format(np.min(e)))\n",
    "\n",
    "print('Dynamic range of original signal:')\n",
    "print('Max = {}'.format(np.max(y)))\n",
    "print('Min = {}'.format(np.min(y)))"
   ]
  },
  {
   "cell_type": "markdown",
   "metadata": {},
   "source": [
    "## 5. FIR Digital Filter to Calculate Residuals\n",
    "Calculate e(n) from y(n) and filter coefficients learned in Step 3\n",
    "\n",
    "$e(n) = y - \\hat{y}(n) = y(n) - \\sum_{k=1}^{l}{a(k)y(n-k)} $\n",
    "\n",
    "This is an FIR moving average digital filter"
   ]
  },
  {
   "cell_type": "code",
   "execution_count": 19,
   "metadata": {
    "collapsed": false
   },
   "outputs": [],
   "source": [
    "# Initialize array of residuals\n",
    "e_fir = np.zeros([block_size, num_blocks])\n",
    "\n",
    "# Intialize previous l data points\n",
    "prev_y = np.zeros(l)\n",
    "\n",
    "for i in range(num_blocks):\n",
    "    for j in range(block_size):\n",
    "        e_fir[j, i] = y[i, j] - (a[:, i] @ prev_y)\n",
    "        \n",
    "        # Update prev_y\n",
    "        prev_y = np.roll(prev_y, 1)\n",
    "        prev_y[0] = y[i, j]"
   ]
  },
  {
   "cell_type": "markdown",
   "metadata": {},
   "source": [
    "Compute MSE between e and e_fir"
   ]
  },
  {
   "cell_type": "code",
   "execution_count": 20,
   "metadata": {
    "collapsed": false
   },
   "outputs": [
    {
     "name": "stdout",
     "output_type": "stream",
     "text": [
      "MSE between residuals from Step 4 and 5 is 2.914725335593956e-32\n"
     ]
    }
   ],
   "source": [
    "e_mse = mse_calc(e, e_fir)\n",
    "print(\"MSE between residuals from Step 4 and 5 is {}\".format(e_mse))"
   ]
  },
  {
   "cell_type": "markdown",
   "metadata": {},
   "source": [
    "## 6. Autoregressive Filter for Reconstruction\n",
    "Reconstruct the audio data using the equation:\n",
    "$ y(n) = \\sum ^l _{k=1} {a(k)y(n-k)+e(n)}$\n",
    "and the residuals computed in Steps 4 and 5. Check that the MSE between the original and reconstructed audio is zero."
   ]
  },
  {
   "cell_type": "code",
   "execution_count": 21,
   "metadata": {
    "collapsed": false
   },
   "outputs": [],
   "source": [
    "def ar_filter(a, e):\n",
    "    # Autoregressive filter to reconstruct the signal\n",
    "    # a is an array of filter coefficients of size l by num_blocks\n",
    "    # e is an array of residuals of size N by num_blocks\n",
    "    \n",
    "    # Extract block_size and num_blocks\n",
    "    [block_size, num_blocks] = e.shape\n",
    "    l = a.shape[0];\n",
    "    \n",
    "    # Intialize y_recons\n",
    "    y_recons = np.zeros([num_blocks, block_size])\n",
    "\n",
    "    # Intialize prev_y\n",
    "    prev_y = np.zeros(l)\n",
    "    \n",
    "    for i in range(num_blocks):\n",
    "        for j in range(block_size):\n",
    "            y_recons[i, j] = a[:, i] @ prev_y + e[j, i]\n",
    "\n",
    "            # Update prev_y\n",
    "            prev_y = np.roll(prev_y, 1)\n",
    "            prev_y[0] = y_recons[i, j]\n",
    "    \n",
    "    return y_recons"
   ]
  },
  {
   "cell_type": "code",
   "execution_count": 22,
   "metadata": {
    "collapsed": false
   },
   "outputs": [
    {
     "name": "stdout",
     "output_type": "stream",
     "text": [
      "MSE between original audio and reconstructed audio from Step 6 is: 8.439024995540207e-29\n"
     ]
    }
   ],
   "source": [
    "y_recons = ar_filter(a, e)\n",
    "y_recons_mse = mse_calc(y, y_recons)\n",
    "print('MSE between original audio and reconstructed audio from Step 6 is: {}'.format(y_recons_mse))"
   ]
  },
  {
   "cell_type": "markdown",
   "metadata": {
    "collapsed": true
   },
   "source": [
    "### 7. Quantization of Residuals / 8. MSE of Directly Quantized Signals vs Reconstructed Estimates\n",
    "Quantize the residuals using the same quantization rates and procedures as in Step 2. \n",
    "\n",
    "Reconstruct an estimate $\\hat y$ of the original signal using the AR filter from Step 6.\n",
    "\n",
    "Calculate the MSE of the original audio and its reconstructed estimates.\n",
    "\n",
    "Plot the directly quantized MSE and the indirectly quantized MSE vs quantization rate and $\\alpha$"
   ]
  },
  {
   "cell_type": "code",
   "execution_count": 23,
   "metadata": {
    "collapsed": false
   },
   "outputs": [],
   "source": [
    "# Initialize y_hat_mse of size r_list by alpha_list\n",
    "y_hat_mse = np.zeros([len(r_list), len(alpha_list)])\n",
    "\n",
    "# Populate y_hat_mse\n",
    "for i in range(len(r_list)):\n",
    "    for j in range(len(alpha_list)):\n",
    "        # Quantize e\n",
    "        e_q = quantize(e, r_list[i], alpha_list[j], axis = 1)\n",
    "        \n",
    "        # Reconstruct y\n",
    "        y_hat = ar_filter(a, e_q)\n",
    "        \n",
    "        # Export the sound files\n",
    "        # title = 'y_hat_r=' + str(r_list[i]) + 'alpha=' + str(alpha_list[j]) + '.wav'\n",
    "        # scipy.io.wavfile.write(title, sample_rate, float2pcm(y_hat.flatten(), 'int16'))\n",
    "        \n",
    "        # Calculate MSE between y and y_q\n",
    "        y_hat_mse[i, j] = mse_calc(y, y_hat)"
   ]
  },
  {
   "cell_type": "code",
   "execution_count": 24,
   "metadata": {
    "collapsed": false
   },
   "outputs": [
    {
     "data": {
      "image/png": "[encoded data removed]",
      "text/plain": [
       "<matplotlib.figure.Figure at 0x1f687e7bf60>"
      ]
     },
     "metadata": {},
     "output_type": "display_data"
    }
   ],
   "source": [
    "# Plot MSE vs r\n",
    "alpha_best = 1.5\n",
    "mse_vs_r(y_hat_mse, r_list, alpha_list, alpha_best)"
   ]
  },
  {
   "cell_type": "code",
   "execution_count": 25,
   "metadata": {
    "collapsed": false
   },
   "outputs": [
    {
     "data": {
      "image/png": "[encoded data removed]",
      "text/plain": [
       "<matplotlib.figure.Figure at 0x1f687ec2ac8>"
      ]
     },
     "metadata": {},
     "output_type": "display_data"
    }
   ],
   "source": [
    "# Plot MSE vs alpha\n",
    "r_best = 4\n",
    "mse_vs_alpha(y_hat_mse, r_list, alpha_list, r_best)"
   ]
  },
  {
   "cell_type": "code",
   "execution_count": 26,
   "metadata": {
    "collapsed": false
   },
   "outputs": [
    {
     "data": {
      "image/png": "[encoded data removed]",
      "text/plain": [
       "<matplotlib.figure.Figure at 0x1f687e11e10>"
      ]
     },
     "metadata": {},
     "output_type": "display_data"
    }
   ],
   "source": [
    "# Plot the 3D MSE\n",
    "plot_mse(y_hat_mse, alpha_list, r_list, '\\hat y')"
   ]
  },
  {
   "cell_type": "markdown",
   "metadata": {},
   "source": [
    "### 9. Quantization of Coefficients\n",
    "Quantize the filter coefficients determined in Step 3.\n",
    "\n",
    "Repeats Step 7 and 8, replacing $a(k)$ by its quantized form $a_q(k)$"
   ]
  },
  {
   "cell_type": "code",
   "execution_count": 27,
   "metadata": {
    "collapsed": false
   },
   "outputs": [],
   "source": [
    "r_list = [4, 8, 9]\n",
    "alpha_list = [0.5, 1, 2, 4, 9]"
   ]
  },
  {
   "cell_type": "markdown",
   "metadata": {
    "collapsed": false
   },
   "source": [
    "# Quantize the filter coefficients\n",
    "# Initialize y_hat_mse of size r_list by alpha_list\n",
    "y_a_mse = np.zeros([len(r_list), len(alpha_list)])\n",
    "\n",
    "# Populate y_a_mse\n",
    "for i in range(len(r_list)):\n",
    "    for j in range(len(alpha_list)):\n",
    "        # Quantize e\n",
    "        e_q = quantize(e, r_list[i], alpha_list[j], axis = 1)\n",
    "        \n",
    "        # Quantize a\n",
    "        a_q = quantize(a, r_list[i], alpha_list[j], axis = 1) \n",
    "        # Reconstruct y\n",
    "        y_a = ar_filter(a_q, e_q)\n",
    "        \n",
    "        \n",
    "        # Export the sound files\n",
    "        # title = 'y_a_r=' + str(r_list[i]) + 'alpha=' + str(alpha_list[j]) + '.wav'\n",
    "        # scipy.io.wavfile.write(title, sample_rate, float2pcm(y_a.flatten(), 'int16'))\n",
    "        \n",
    "        # Calculate MSE between y and y_q\n",
    "        y_a_mse[i, j] = mse_calc(y, y_a)"
   ]
  },
  {
   "cell_type": "markdown",
   "metadata": {
    "collapsed": false
   },
   "source": [
    "# Print and plot MSE\n",
    "print_mse(y_a_mse, alpha_list, r_list)\n",
    "plot_mse(y_a_mse, alpha_list, r_list, '$y_a$')"
   ]
  }
 ],
 "metadata": {
  "anaconda-cloud": {},
  "kernelspec": {
   "display_name": "Python [Root]",
   "language": "python",
   "name": "Python [Root]"
  },
  "language_info": {
   "codemirror_mode": {
    "name": "ipython",
    "version": 3
   },
   "file_extension": ".py",
   "mimetype": "text/x-python",
   "name": "python",
   "nbconvert_exporter": "python",
   "pygments_lexer": "ipython3",
   "version": "3.5.2"
  }
 },
 "nbformat": 4,
 "nbformat_minor": 0
}
